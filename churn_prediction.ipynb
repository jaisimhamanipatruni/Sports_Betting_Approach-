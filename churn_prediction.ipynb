{
 "cells": [
  {
   "cell_type": "code",
   "execution_count": 1,
   "metadata": {
    "collapsed": true
   },
   "outputs": [],
   "source": [
    "import pandas"
   ]
  },
  {
   "cell_type": "code",
   "execution_count": 2,
   "metadata": {
    "collapsed": true
   },
   "outputs": [],
   "source": [
    "raw_data = pandas.read_csv('sports_betting/RawDataIIUserDailyAggregation.csv')"
   ]
  },
  {
   "cell_type": "code",
   "execution_count": 3,
   "metadata": {
    "collapsed": false,
    "scrolled": true
   },
   "outputs": [
    {
     "data": {
      "text/html": [
       "<div>\n",
       "<table border=\"1\" class=\"dataframe\">\n",
       "  <thead>\n",
       "    <tr style=\"text-align: right;\">\n",
       "      <th></th>\n",
       "      <th>UserID</th>\n",
       "      <th>Date</th>\n",
       "      <th>ProductID</th>\n",
       "      <th>Stakes</th>\n",
       "      <th>Winnings</th>\n",
       "      <th>Bets</th>\n",
       "    </tr>\n",
       "  </thead>\n",
       "  <tbody>\n",
       "    <tr>\n",
       "      <th>0</th>\n",
       "      <td>1324354</td>\n",
       "      <td>20050224</td>\n",
       "      <td>1</td>\n",
       "      <td>20</td>\n",
       "      <td>0</td>\n",
       "      <td>2</td>\n",
       "    </tr>\n",
       "    <tr>\n",
       "      <th>1</th>\n",
       "      <td>1324354</td>\n",
       "      <td>20050225</td>\n",
       "      <td>1</td>\n",
       "      <td>0</td>\n",
       "      <td>0</td>\n",
       "      <td>0</td>\n",
       "    </tr>\n",
       "    <tr>\n",
       "      <th>2</th>\n",
       "      <td>1324354</td>\n",
       "      <td>20050227</td>\n",
       "      <td>1</td>\n",
       "      <td>20</td>\n",
       "      <td>0</td>\n",
       "      <td>2</td>\n",
       "    </tr>\n",
       "    <tr>\n",
       "      <th>3</th>\n",
       "      <td>1324354</td>\n",
       "      <td>20050303</td>\n",
       "      <td>1</td>\n",
       "      <td>10</td>\n",
       "      <td>0</td>\n",
       "      <td>1</td>\n",
       "    </tr>\n",
       "    <tr>\n",
       "      <th>4</th>\n",
       "      <td>1324354</td>\n",
       "      <td>20050304</td>\n",
       "      <td>1</td>\n",
       "      <td>10</td>\n",
       "      <td>0</td>\n",
       "      <td>1</td>\n",
       "    </tr>\n",
       "  </tbody>\n",
       "</table>\n",
       "</div>"
      ],
      "text/plain": [
       "    UserID      Date  ProductID  Stakes  Winnings  Bets\n",
       "0  1324354  20050224          1      20         0     2\n",
       "1  1324354  20050225          1       0         0     0\n",
       "2  1324354  20050227          1      20         0     2\n",
       "3  1324354  20050303          1      10         0     1\n",
       "4  1324354  20050304          1      10         0     1"
      ]
     },
     "execution_count": 3,
     "metadata": {},
     "output_type": "execute_result"
    }
   ],
   "source": [
    "raw_data.head()"
   ]
  },
  {
   "cell_type": "code",
   "execution_count": 4,
   "metadata": {
    "collapsed": true
   },
   "outputs": [],
   "source": [
    "import datetime"
   ]
  },
  {
   "cell_type": "markdown",
   "metadata": {},
   "source": [
    "## Convert date to Python format"
   ]
  },
  {
   "cell_type": "code",
   "execution_count": 5,
   "metadata": {
    "collapsed": true
   },
   "outputs": [],
   "source": [
    "raw_data['Date'] = raw_data['Date'].apply(lambda x: datetime.datetime.strptime(str(x), '%Y%m%d'))"
   ]
  },
  {
   "cell_type": "code",
   "execution_count": 6,
   "metadata": {
    "collapsed": false
   },
   "outputs": [
    {
     "data": {
      "text/html": [
       "<div>\n",
       "<table border=\"1\" class=\"dataframe\">\n",
       "  <thead>\n",
       "    <tr style=\"text-align: right;\">\n",
       "      <th></th>\n",
       "      <th>UserID</th>\n",
       "      <th>Date</th>\n",
       "      <th>ProductID</th>\n",
       "      <th>Stakes</th>\n",
       "      <th>Winnings</th>\n",
       "      <th>Bets</th>\n",
       "    </tr>\n",
       "  </thead>\n",
       "  <tbody>\n",
       "    <tr>\n",
       "      <th>0</th>\n",
       "      <td>1324354</td>\n",
       "      <td>2005-02-24</td>\n",
       "      <td>1</td>\n",
       "      <td>20</td>\n",
       "      <td>0</td>\n",
       "      <td>2</td>\n",
       "    </tr>\n",
       "    <tr>\n",
       "      <th>1</th>\n",
       "      <td>1324354</td>\n",
       "      <td>2005-02-25</td>\n",
       "      <td>1</td>\n",
       "      <td>0</td>\n",
       "      <td>0</td>\n",
       "      <td>0</td>\n",
       "    </tr>\n",
       "    <tr>\n",
       "      <th>2</th>\n",
       "      <td>1324354</td>\n",
       "      <td>2005-02-27</td>\n",
       "      <td>1</td>\n",
       "      <td>20</td>\n",
       "      <td>0</td>\n",
       "      <td>2</td>\n",
       "    </tr>\n",
       "    <tr>\n",
       "      <th>3</th>\n",
       "      <td>1324354</td>\n",
       "      <td>2005-03-03</td>\n",
       "      <td>1</td>\n",
       "      <td>10</td>\n",
       "      <td>0</td>\n",
       "      <td>1</td>\n",
       "    </tr>\n",
       "    <tr>\n",
       "      <th>4</th>\n",
       "      <td>1324354</td>\n",
       "      <td>2005-03-04</td>\n",
       "      <td>1</td>\n",
       "      <td>10</td>\n",
       "      <td>0</td>\n",
       "      <td>1</td>\n",
       "    </tr>\n",
       "  </tbody>\n",
       "</table>\n",
       "</div>"
      ],
      "text/plain": [
       "    UserID       Date  ProductID  Stakes  Winnings  Bets\n",
       "0  1324354 2005-02-24          1      20         0     2\n",
       "1  1324354 2005-02-25          1       0         0     0\n",
       "2  1324354 2005-02-27          1      20         0     2\n",
       "3  1324354 2005-03-03          1      10         0     1\n",
       "4  1324354 2005-03-04          1      10         0     1"
      ]
     },
     "execution_count": 6,
     "metadata": {},
     "output_type": "execute_result"
    }
   ],
   "source": [
    "raw_data.head()"
   ]
  },
  {
   "cell_type": "markdown",
   "metadata": {},
   "source": [
    "## Determine the total amount based on winnings and Stakes"
   ]
  },
  {
   "cell_type": "code",
   "execution_count": 7,
   "metadata": {
    "collapsed": false
   },
   "outputs": [],
   "source": [
    "raw_data['Amount'] = raw_data.apply(lambda x: int(x[4]) - int(x[3]), axis=1)"
   ]
  },
  {
   "cell_type": "code",
   "execution_count": 8,
   "metadata": {
    "collapsed": false
   },
   "outputs": [
    {
     "data": {
      "text/html": [
       "<div>\n",
       "<table border=\"1\" class=\"dataframe\">\n",
       "  <thead>\n",
       "    <tr style=\"text-align: right;\">\n",
       "      <th></th>\n",
       "      <th>UserID</th>\n",
       "      <th>Date</th>\n",
       "      <th>ProductID</th>\n",
       "      <th>Stakes</th>\n",
       "      <th>Winnings</th>\n",
       "      <th>Bets</th>\n",
       "      <th>Amount</th>\n",
       "    </tr>\n",
       "  </thead>\n",
       "  <tbody>\n",
       "    <tr>\n",
       "      <th>0</th>\n",
       "      <td>1324354</td>\n",
       "      <td>2005-02-24</td>\n",
       "      <td>1</td>\n",
       "      <td>20</td>\n",
       "      <td>0</td>\n",
       "      <td>2</td>\n",
       "      <td>-20</td>\n",
       "    </tr>\n",
       "    <tr>\n",
       "      <th>1</th>\n",
       "      <td>1324354</td>\n",
       "      <td>2005-02-25</td>\n",
       "      <td>1</td>\n",
       "      <td>0</td>\n",
       "      <td>0</td>\n",
       "      <td>0</td>\n",
       "      <td>0</td>\n",
       "    </tr>\n",
       "    <tr>\n",
       "      <th>2</th>\n",
       "      <td>1324354</td>\n",
       "      <td>2005-02-27</td>\n",
       "      <td>1</td>\n",
       "      <td>20</td>\n",
       "      <td>0</td>\n",
       "      <td>2</td>\n",
       "      <td>-20</td>\n",
       "    </tr>\n",
       "    <tr>\n",
       "      <th>3</th>\n",
       "      <td>1324354</td>\n",
       "      <td>2005-03-03</td>\n",
       "      <td>1</td>\n",
       "      <td>10</td>\n",
       "      <td>0</td>\n",
       "      <td>1</td>\n",
       "      <td>-10</td>\n",
       "    </tr>\n",
       "    <tr>\n",
       "      <th>4</th>\n",
       "      <td>1324354</td>\n",
       "      <td>2005-03-04</td>\n",
       "      <td>1</td>\n",
       "      <td>10</td>\n",
       "      <td>0</td>\n",
       "      <td>1</td>\n",
       "      <td>-10</td>\n",
       "    </tr>\n",
       "  </tbody>\n",
       "</table>\n",
       "</div>"
      ],
      "text/plain": [
       "    UserID       Date  ProductID  Stakes  Winnings  Bets  Amount\n",
       "0  1324354 2005-02-24          1      20         0     2     -20\n",
       "1  1324354 2005-02-25          1       0         0     0       0\n",
       "2  1324354 2005-02-27          1      20         0     2     -20\n",
       "3  1324354 2005-03-03          1      10         0     1     -10\n",
       "4  1324354 2005-03-04          1      10         0     1     -10"
      ]
     },
     "execution_count": 8,
     "metadata": {},
     "output_type": "execute_result"
    }
   ],
   "source": [
    "raw_data.head()"
   ]
  },
  {
   "cell_type": "markdown",
   "metadata": {},
   "source": [
    "## Lets group the data by users"
   ]
  },
  {
   "cell_type": "code",
   "execution_count": 9,
   "metadata": {
    "collapsed": true
   },
   "outputs": [],
   "source": [
    "raw_user_data = raw_data.groupby('UserID')"
   ]
  },
  {
   "cell_type": "code",
   "execution_count": 10,
   "metadata": {
    "collapsed": false
   },
   "outputs": [],
   "source": [
    "user_data = raw_user_data.aggregate(lambda x: list(x)).reset_index()"
   ]
  },
  {
   "cell_type": "code",
   "execution_count": 11,
   "metadata": {
    "collapsed": false
   },
   "outputs": [
    {
     "data": {
      "text/html": [
       "<div>\n",
       "<table border=\"1\" class=\"dataframe\">\n",
       "  <thead>\n",
       "    <tr style=\"text-align: right;\">\n",
       "      <th></th>\n",
       "      <th>UserID</th>\n",
       "      <th>Date</th>\n",
       "      <th>ProductID</th>\n",
       "      <th>Stakes</th>\n",
       "      <th>Winnings</th>\n",
       "      <th>Bets</th>\n",
       "      <th>Amount</th>\n",
       "    </tr>\n",
       "  </thead>\n",
       "  <tbody>\n",
       "    <tr>\n",
       "      <th>0</th>\n",
       "      <td>1324354</td>\n",
       "      <td>[2005-02-24 00:00:00, 2005-02-25 00:00:00, 200...</td>\n",
       "      <td>[1, 1, 1, 1, 1, 1, 1, 1, 1, 1, 1, 1, 1, 1, 1, ...</td>\n",
       "      <td>[20.0, 0.0, 20.0, 10.0, 10.0, 10.0, 10.0, 20.0...</td>\n",
       "      <td>[0.0, 0.0, 0.0, 0.0, 0.0, 0.0, 0.0, 0.0, 0.0, ...</td>\n",
       "      <td>[2, 0, 2, 1, 1, 1, 1, 3, 1, 1, 1, 1, 0, 1, 0, ...</td>\n",
       "      <td>[-20, 0, -20, -10, -10, -10, -10, -20, -10, -1...</td>\n",
       "    </tr>\n",
       "    <tr>\n",
       "      <th>1</th>\n",
       "      <td>1324355</td>\n",
       "      <td>[2005-02-01 00:00:00, 2005-02-01 00:00:00, 200...</td>\n",
       "      <td>[2, 1, 1, 2, 2, 2, 2, 1, 1, 2, 2, 1, 1, 1, 1, ...</td>\n",
       "      <td>[2.0, 3.5, 3.0, 6.7, 6.0, 6.0, 3.0, 6.0, 2.0, ...</td>\n",
       "      <td>[0.0, 0.0, 0.0, 11.2, 0.0, 0.0, 0.0, 0.0, 0.0,...</td>\n",
       "      <td>[2, 6, 6, 7, 5, 1, 4, 6, 2, 1, 1, 1, 1, 0, 0, ...</td>\n",
       "      <td>[-2, -3, -3, 5, -6, -6, -3, -6, -2, 0, 0, -1, ...</td>\n",
       "    </tr>\n",
       "    <tr>\n",
       "      <th>2</th>\n",
       "      <td>1324356</td>\n",
       "      <td>[2005-02-02 00:00:00, 2005-02-02 00:00:00, 200...</td>\n",
       "      <td>[1, 2, 1, 1, 1, 1, 1, 1, 1, 2, 2, 1, 1, 1, 1, ...</td>\n",
       "      <td>[4.0, 1.0, 1.0, 0.0, 19.0, 9.99, 1.0, 5.89, 15...</td>\n",
       "      <td>[0.0, 0.0, 0.0, 0.0, 0.0, 14.99, 5.89, 0.0, 0....</td>\n",
       "      <td>[4, 2, 2, 0, 2, 2, 1, 2, 3, 2, 3, 3, 2, 0, 2, ...</td>\n",
       "      <td>[-4, -1, -1, 0, -19, 5, 4, -5, -15, -1, 1, 0, ...</td>\n",
       "    </tr>\n",
       "    <tr>\n",
       "      <th>3</th>\n",
       "      <td>1324358</td>\n",
       "      <td>[2005-02-01 00:00:00, 2005-02-02 00:00:00, 200...</td>\n",
       "      <td>[1, 1, 1, 1, 1, 1, 2, 1, 1]</td>\n",
       "      <td>[73.451, 0.0, 47.2813, 30.4368, 0.0, 32.6108, ...</td>\n",
       "      <td>[42.6632, 47.3561, 0.0, 0.0, 0.0, 0.0, 55.9819...</td>\n",
       "      <td>[3, 0, 1, 1, 0, 1, 4, 0, 1]</td>\n",
       "      <td>[-31, 47, -47, -30, 0, -32, -33, 63, -63]</td>\n",
       "    </tr>\n",
       "    <tr>\n",
       "      <th>4</th>\n",
       "      <td>1324360</td>\n",
       "      <td>[2005-02-02 00:00:00, 2005-02-03 00:00:00, 200...</td>\n",
       "      <td>[1, 1, 8, 1, 1, 1, 1, 2, 1, 1, 1, 1, 1, 1, 1, ...</td>\n",
       "      <td>[1.7321, 2.8868, 4.0, 0.8661, 0.0, 0.0, 0.5774...</td>\n",
       "      <td>[0.0, 0.0, 2.0, 0.0, 5.6293, 0.0, 0.0, 1.2009,...</td>\n",
       "      <td>[1, 1, 4, 2, 0, 0, 1, 2, 5, 0, 4, 0, 0, 3, 0, ...</td>\n",
       "      <td>[-1, -2, -2, 0, 5, 0, 0, 0, -3, 3, -2, 0, 0, -...</td>\n",
       "    </tr>\n",
       "  </tbody>\n",
       "</table>\n",
       "</div>"
      ],
      "text/plain": [
       "    UserID                                               Date  \\\n",
       "0  1324354  [2005-02-24 00:00:00, 2005-02-25 00:00:00, 200...   \n",
       "1  1324355  [2005-02-01 00:00:00, 2005-02-01 00:00:00, 200...   \n",
       "2  1324356  [2005-02-02 00:00:00, 2005-02-02 00:00:00, 200...   \n",
       "3  1324358  [2005-02-01 00:00:00, 2005-02-02 00:00:00, 200...   \n",
       "4  1324360  [2005-02-02 00:00:00, 2005-02-03 00:00:00, 200...   \n",
       "\n",
       "                                           ProductID  \\\n",
       "0  [1, 1, 1, 1, 1, 1, 1, 1, 1, 1, 1, 1, 1, 1, 1, ...   \n",
       "1  [2, 1, 1, 2, 2, 2, 2, 1, 1, 2, 2, 1, 1, 1, 1, ...   \n",
       "2  [1, 2, 1, 1, 1, 1, 1, 1, 1, 2, 2, 1, 1, 1, 1, ...   \n",
       "3                        [1, 1, 1, 1, 1, 1, 2, 1, 1]   \n",
       "4  [1, 1, 8, 1, 1, 1, 1, 2, 1, 1, 1, 1, 1, 1, 1, ...   \n",
       "\n",
       "                                              Stakes  \\\n",
       "0  [20.0, 0.0, 20.0, 10.0, 10.0, 10.0, 10.0, 20.0...   \n",
       "1  [2.0, 3.5, 3.0, 6.7, 6.0, 6.0, 3.0, 6.0, 2.0, ...   \n",
       "2  [4.0, 1.0, 1.0, 0.0, 19.0, 9.99, 1.0, 5.89, 15...   \n",
       "3  [73.451, 0.0, 47.2813, 30.4368, 0.0, 32.6108, ...   \n",
       "4  [1.7321, 2.8868, 4.0, 0.8661, 0.0, 0.0, 0.5774...   \n",
       "\n",
       "                                            Winnings  \\\n",
       "0  [0.0, 0.0, 0.0, 0.0, 0.0, 0.0, 0.0, 0.0, 0.0, ...   \n",
       "1  [0.0, 0.0, 0.0, 11.2, 0.0, 0.0, 0.0, 0.0, 0.0,...   \n",
       "2  [0.0, 0.0, 0.0, 0.0, 0.0, 14.99, 5.89, 0.0, 0....   \n",
       "3  [42.6632, 47.3561, 0.0, 0.0, 0.0, 0.0, 55.9819...   \n",
       "4  [0.0, 0.0, 2.0, 0.0, 5.6293, 0.0, 0.0, 1.2009,...   \n",
       "\n",
       "                                                Bets  \\\n",
       "0  [2, 0, 2, 1, 1, 1, 1, 3, 1, 1, 1, 1, 0, 1, 0, ...   \n",
       "1  [2, 6, 6, 7, 5, 1, 4, 6, 2, 1, 1, 1, 1, 0, 0, ...   \n",
       "2  [4, 2, 2, 0, 2, 2, 1, 2, 3, 2, 3, 3, 2, 0, 2, ...   \n",
       "3                        [3, 0, 1, 1, 0, 1, 4, 0, 1]   \n",
       "4  [1, 1, 4, 2, 0, 0, 1, 2, 5, 0, 4, 0, 0, 3, 0, ...   \n",
       "\n",
       "                                              Amount  \n",
       "0  [-20, 0, -20, -10, -10, -10, -10, -20, -10, -1...  \n",
       "1  [-2, -3, -3, 5, -6, -6, -3, -6, -2, 0, 0, -1, ...  \n",
       "2  [-4, -1, -1, 0, -19, 5, 4, -5, -15, -1, 1, 0, ...  \n",
       "3          [-31, 47, -47, -30, 0, -32, -33, 63, -63]  \n",
       "4  [-1, -2, -2, 0, 5, 0, 0, 0, -3, 3, -2, 0, 0, -...  "
      ]
     },
     "execution_count": 11,
     "metadata": {},
     "output_type": "execute_result"
    }
   ],
   "source": [
    "user_data.head()"
   ]
  },
  {
   "cell_type": "markdown",
   "metadata": {},
   "source": [
    "## Determine if the user churns after 3 months."
   ]
  },
  {
   "cell_type": "code",
   "execution_count": 12,
   "metadata": {
    "collapsed": false
   },
   "outputs": [],
   "source": [
    "max_date = datetime.datetime.strptime('2005-05-24', '%Y-%m-%d')\n",
    "user_data['churn'] = user_data['Date'].apply(lambda x: max(x) <= max_date)"
   ]
  },
  {
   "cell_type": "code",
   "execution_count": 13,
   "metadata": {
    "collapsed": false
   },
   "outputs": [
    {
     "data": {
      "text/html": [
       "<div>\n",
       "<table border=\"1\" class=\"dataframe\">\n",
       "  <thead>\n",
       "    <tr style=\"text-align: right;\">\n",
       "      <th></th>\n",
       "      <th>UserID</th>\n",
       "      <th>Date</th>\n",
       "      <th>ProductID</th>\n",
       "      <th>Stakes</th>\n",
       "      <th>Winnings</th>\n",
       "      <th>Bets</th>\n",
       "      <th>Amount</th>\n",
       "      <th>churn</th>\n",
       "    </tr>\n",
       "  </thead>\n",
       "  <tbody>\n",
       "    <tr>\n",
       "      <th>0</th>\n",
       "      <td>1324354</td>\n",
       "      <td>[2005-02-24 00:00:00, 2005-02-25 00:00:00, 200...</td>\n",
       "      <td>[1, 1, 1, 1, 1, 1, 1, 1, 1, 1, 1, 1, 1, 1, 1, ...</td>\n",
       "      <td>[20.0, 0.0, 20.0, 10.0, 10.0, 10.0, 10.0, 20.0...</td>\n",
       "      <td>[0.0, 0.0, 0.0, 0.0, 0.0, 0.0, 0.0, 0.0, 0.0, ...</td>\n",
       "      <td>[2, 0, 2, 1, 1, 1, 1, 3, 1, 1, 1, 1, 0, 1, 0, ...</td>\n",
       "      <td>[-20, 0, -20, -10, -10, -10, -10, -20, -10, -1...</td>\n",
       "      <td>False</td>\n",
       "    </tr>\n",
       "    <tr>\n",
       "      <th>1</th>\n",
       "      <td>1324355</td>\n",
       "      <td>[2005-02-01 00:00:00, 2005-02-01 00:00:00, 200...</td>\n",
       "      <td>[2, 1, 1, 2, 2, 2, 2, 1, 1, 2, 2, 1, 1, 1, 1, ...</td>\n",
       "      <td>[2.0, 3.5, 3.0, 6.7, 6.0, 6.0, 3.0, 6.0, 2.0, ...</td>\n",
       "      <td>[0.0, 0.0, 0.0, 11.2, 0.0, 0.0, 0.0, 0.0, 0.0,...</td>\n",
       "      <td>[2, 6, 6, 7, 5, 1, 4, 6, 2, 1, 1, 1, 1, 0, 0, ...</td>\n",
       "      <td>[-2, -3, -3, 5, -6, -6, -3, -6, -2, 0, 0, -1, ...</td>\n",
       "      <td>False</td>\n",
       "    </tr>\n",
       "    <tr>\n",
       "      <th>2</th>\n",
       "      <td>1324356</td>\n",
       "      <td>[2005-02-02 00:00:00, 2005-02-02 00:00:00, 200...</td>\n",
       "      <td>[1, 2, 1, 1, 1, 1, 1, 1, 1, 2, 2, 1, 1, 1, 1, ...</td>\n",
       "      <td>[4.0, 1.0, 1.0, 0.0, 19.0, 9.99, 1.0, 5.89, 15...</td>\n",
       "      <td>[0.0, 0.0, 0.0, 0.0, 0.0, 14.99, 5.89, 0.0, 0....</td>\n",
       "      <td>[4, 2, 2, 0, 2, 2, 1, 2, 3, 2, 3, 3, 2, 0, 2, ...</td>\n",
       "      <td>[-4, -1, -1, 0, -19, 5, 4, -5, -15, -1, 1, 0, ...</td>\n",
       "      <td>False</td>\n",
       "    </tr>\n",
       "    <tr>\n",
       "      <th>3</th>\n",
       "      <td>1324358</td>\n",
       "      <td>[2005-02-01 00:00:00, 2005-02-02 00:00:00, 200...</td>\n",
       "      <td>[1, 1, 1, 1, 1, 1, 2, 1, 1]</td>\n",
       "      <td>[73.451, 0.0, 47.2813, 30.4368, 0.0, 32.6108, ...</td>\n",
       "      <td>[42.6632, 47.3561, 0.0, 0.0, 0.0, 0.0, 55.9819...</td>\n",
       "      <td>[3, 0, 1, 1, 0, 1, 4, 0, 1]</td>\n",
       "      <td>[-31, 47, -47, -30, 0, -32, -33, 63, -63]</td>\n",
       "      <td>True</td>\n",
       "    </tr>\n",
       "    <tr>\n",
       "      <th>4</th>\n",
       "      <td>1324360</td>\n",
       "      <td>[2005-02-02 00:00:00, 2005-02-03 00:00:00, 200...</td>\n",
       "      <td>[1, 1, 8, 1, 1, 1, 1, 2, 1, 1, 1, 1, 1, 1, 1, ...</td>\n",
       "      <td>[1.7321, 2.8868, 4.0, 0.8661, 0.0, 0.0, 0.5774...</td>\n",
       "      <td>[0.0, 0.0, 2.0, 0.0, 5.6293, 0.0, 0.0, 1.2009,...</td>\n",
       "      <td>[1, 1, 4, 2, 0, 0, 1, 2, 5, 0, 4, 0, 0, 3, 0, ...</td>\n",
       "      <td>[-1, -2, -2, 0, 5, 0, 0, 0, -3, 3, -2, 0, 0, -...</td>\n",
       "      <td>False</td>\n",
       "    </tr>\n",
       "  </tbody>\n",
       "</table>\n",
       "</div>"
      ],
      "text/plain": [
       "    UserID                                               Date  \\\n",
       "0  1324354  [2005-02-24 00:00:00, 2005-02-25 00:00:00, 200...   \n",
       "1  1324355  [2005-02-01 00:00:00, 2005-02-01 00:00:00, 200...   \n",
       "2  1324356  [2005-02-02 00:00:00, 2005-02-02 00:00:00, 200...   \n",
       "3  1324358  [2005-02-01 00:00:00, 2005-02-02 00:00:00, 200...   \n",
       "4  1324360  [2005-02-02 00:00:00, 2005-02-03 00:00:00, 200...   \n",
       "\n",
       "                                           ProductID  \\\n",
       "0  [1, 1, 1, 1, 1, 1, 1, 1, 1, 1, 1, 1, 1, 1, 1, ...   \n",
       "1  [2, 1, 1, 2, 2, 2, 2, 1, 1, 2, 2, 1, 1, 1, 1, ...   \n",
       "2  [1, 2, 1, 1, 1, 1, 1, 1, 1, 2, 2, 1, 1, 1, 1, ...   \n",
       "3                        [1, 1, 1, 1, 1, 1, 2, 1, 1]   \n",
       "4  [1, 1, 8, 1, 1, 1, 1, 2, 1, 1, 1, 1, 1, 1, 1, ...   \n",
       "\n",
       "                                              Stakes  \\\n",
       "0  [20.0, 0.0, 20.0, 10.0, 10.0, 10.0, 10.0, 20.0...   \n",
       "1  [2.0, 3.5, 3.0, 6.7, 6.0, 6.0, 3.0, 6.0, 2.0, ...   \n",
       "2  [4.0, 1.0, 1.0, 0.0, 19.0, 9.99, 1.0, 5.89, 15...   \n",
       "3  [73.451, 0.0, 47.2813, 30.4368, 0.0, 32.6108, ...   \n",
       "4  [1.7321, 2.8868, 4.0, 0.8661, 0.0, 0.0, 0.5774...   \n",
       "\n",
       "                                            Winnings  \\\n",
       "0  [0.0, 0.0, 0.0, 0.0, 0.0, 0.0, 0.0, 0.0, 0.0, ...   \n",
       "1  [0.0, 0.0, 0.0, 11.2, 0.0, 0.0, 0.0, 0.0, 0.0,...   \n",
       "2  [0.0, 0.0, 0.0, 0.0, 0.0, 14.99, 5.89, 0.0, 0....   \n",
       "3  [42.6632, 47.3561, 0.0, 0.0, 0.0, 0.0, 55.9819...   \n",
       "4  [0.0, 0.0, 2.0, 0.0, 5.6293, 0.0, 0.0, 1.2009,...   \n",
       "\n",
       "                                                Bets  \\\n",
       "0  [2, 0, 2, 1, 1, 1, 1, 3, 1, 1, 1, 1, 0, 1, 0, ...   \n",
       "1  [2, 6, 6, 7, 5, 1, 4, 6, 2, 1, 1, 1, 1, 0, 0, ...   \n",
       "2  [4, 2, 2, 0, 2, 2, 1, 2, 3, 2, 3, 3, 2, 0, 2, ...   \n",
       "3                        [3, 0, 1, 1, 0, 1, 4, 0, 1]   \n",
       "4  [1, 1, 4, 2, 0, 0, 1, 2, 5, 0, 4, 0, 0, 3, 0, ...   \n",
       "\n",
       "                                              Amount  churn  \n",
       "0  [-20, 0, -20, -10, -10, -10, -10, -20, -10, -1...  False  \n",
       "1  [-2, -3, -3, 5, -6, -6, -3, -6, -2, 0, 0, -1, ...  False  \n",
       "2  [-4, -1, -1, 0, -19, 5, 4, -5, -15, -1, 1, 0, ...  False  \n",
       "3          [-31, 47, -47, -30, 0, -32, -33, 63, -63]   True  \n",
       "4  [-1, -2, -2, 0, 5, 0, 0, 0, -3, 3, -2, 0, 0, -...  False  "
      ]
     },
     "execution_count": 13,
     "metadata": {},
     "output_type": "execute_result"
    }
   ],
   "source": [
    "user_data.head()"
   ]
  },
  {
   "cell_type": "code",
   "execution_count": 14,
   "metadata": {
    "collapsed": false
   },
   "outputs": [],
   "source": [
    "def make_daily_list(row):\n",
    "    date_list = row[1]\n",
    "    amount_list = row[6]\n",
    "    items = []\n",
    "    for i, each_date in enumerate(date_list):\n",
    "        if each_date > max_date:\n",
    "            continue\n",
    "        items.append([\n",
    "                each_date, amount_list[i]\n",
    "            ])\n",
    "    return items"
   ]
  },
  {
   "cell_type": "code",
   "execution_count": 15,
   "metadata": {
    "collapsed": false
   },
   "outputs": [],
   "source": [
    "user_data['activites'] = user_data.apply(make_daily_list, axis=1)"
   ]
  },
  {
   "cell_type": "code",
   "execution_count": 16,
   "metadata": {
    "collapsed": false
   },
   "outputs": [],
   "source": [
    "churn_data = user_data[['UserID', 'churn', 'activites']]"
   ]
  },
  {
   "cell_type": "code",
   "execution_count": 17,
   "metadata": {
    "collapsed": false
   },
   "outputs": [
    {
     "data": {
      "text/html": [
       "<div>\n",
       "<table border=\"1\" class=\"dataframe\">\n",
       "  <thead>\n",
       "    <tr style=\"text-align: right;\">\n",
       "      <th></th>\n",
       "      <th>UserID</th>\n",
       "      <th>churn</th>\n",
       "      <th>activites</th>\n",
       "    </tr>\n",
       "  </thead>\n",
       "  <tbody>\n",
       "    <tr>\n",
       "      <th>0</th>\n",
       "      <td>1324354</td>\n",
       "      <td>False</td>\n",
       "      <td>[[2005-02-24 00:00:00, -20], [2005-02-25 00:00...</td>\n",
       "    </tr>\n",
       "    <tr>\n",
       "      <th>1</th>\n",
       "      <td>1324355</td>\n",
       "      <td>False</td>\n",
       "      <td>[[2005-02-01 00:00:00, -2], [2005-02-01 00:00:...</td>\n",
       "    </tr>\n",
       "    <tr>\n",
       "      <th>2</th>\n",
       "      <td>1324356</td>\n",
       "      <td>False</td>\n",
       "      <td>[[2005-02-02 00:00:00, -4], [2005-02-02 00:00:...</td>\n",
       "    </tr>\n",
       "    <tr>\n",
       "      <th>3</th>\n",
       "      <td>1324358</td>\n",
       "      <td>True</td>\n",
       "      <td>[[2005-02-01 00:00:00, -31], [2005-02-02 00:00...</td>\n",
       "    </tr>\n",
       "    <tr>\n",
       "      <th>4</th>\n",
       "      <td>1324360</td>\n",
       "      <td>False</td>\n",
       "      <td>[[2005-02-02 00:00:00, -1], [2005-02-03 00:00:...</td>\n",
       "    </tr>\n",
       "  </tbody>\n",
       "</table>\n",
       "</div>"
      ],
      "text/plain": [
       "    UserID  churn                                          activites\n",
       "0  1324354  False  [[2005-02-24 00:00:00, -20], [2005-02-25 00:00...\n",
       "1  1324355  False  [[2005-02-01 00:00:00, -2], [2005-02-01 00:00:...\n",
       "2  1324356  False  [[2005-02-02 00:00:00, -4], [2005-02-02 00:00:...\n",
       "3  1324358   True  [[2005-02-01 00:00:00, -31], [2005-02-02 00:00...\n",
       "4  1324360  False  [[2005-02-02 00:00:00, -1], [2005-02-03 00:00:..."
      ]
     },
     "execution_count": 17,
     "metadata": {},
     "output_type": "execute_result"
    }
   ],
   "source": [
    "churn_data.head()"
   ]
  },
  {
   "cell_type": "code",
   "execution_count": 18,
   "metadata": {
    "collapsed": false
   },
   "outputs": [
    {
     "name": "stderr",
     "output_type": "stream",
     "text": [
      "/home/sudip/phunka/projects/freelance/forex/envforex/lib/python3.4/site-packages/ipykernel/__main__.py:1: SettingWithCopyWarning: \n",
      "A value is trying to be set on a copy of a slice from a DataFrame.\n",
      "Try using .loc[row_indexer,col_indexer] = value instead\n",
      "\n",
      "See the caveats in the documentation: http://pandas.pydata.org/pandas-docs/stable/indexing.html#indexing-view-versus-copy\n",
      "  if __name__ == '__main__':\n"
     ]
    }
   ],
   "source": [
    "churn_data['Total'] = churn_data['activites'].apply(lambda x: len(x))"
   ]
  },
  {
   "cell_type": "code",
   "execution_count": 19,
   "metadata": {
    "collapsed": false
   },
   "outputs": [
    {
     "name": "stderr",
     "output_type": "stream",
     "text": [
      "/home/sudip/phunka/projects/freelance/forex/envforex/lib/python3.4/site-packages/ipykernel/__main__.py:1: SettingWithCopyWarning: \n",
      "A value is trying to be set on a copy of a slice from a DataFrame.\n",
      "Try using .loc[row_indexer,col_indexer] = value instead\n",
      "\n",
      "See the caveats in the documentation: http://pandas.pydata.org/pandas-docs/stable/indexing.html#indexing-view-versus-copy\n",
      "  if __name__ == '__main__':\n"
     ]
    }
   ],
   "source": [
    "churn_data['all_dates'] = churn_data['activites'].apply(lambda x: [each_date[0] for each_date in x])"
   ]
  },
  {
   "cell_type": "code",
   "execution_count": 20,
   "metadata": {
    "collapsed": false
   },
   "outputs": [
    {
     "name": "stderr",
     "output_type": "stream",
     "text": [
      "/home/sudip/phunka/projects/freelance/forex/envforex/lib/python3.4/site-packages/ipykernel/__main__.py:1: SettingWithCopyWarning: \n",
      "A value is trying to be set on a copy of a slice from a DataFrame.\n",
      "Try using .loc[row_indexer,col_indexer] = value instead\n",
      "\n",
      "See the caveats in the documentation: http://pandas.pydata.org/pandas-docs/stable/indexing.html#indexing-view-versus-copy\n",
      "  if __name__ == '__main__':\n"
     ]
    }
   ],
   "source": [
    "churn_data['last_active'] = churn_data['all_dates'].apply(lambda x: (max_date - max(x)).days if x else 0)"
   ]
  },
  {
   "cell_type": "code",
   "execution_count": 21,
   "metadata": {
    "collapsed": false
   },
   "outputs": [
    {
     "data": {
      "text/html": [
       "<div>\n",
       "<table border=\"1\" class=\"dataframe\">\n",
       "  <thead>\n",
       "    <tr style=\"text-align: right;\">\n",
       "      <th></th>\n",
       "      <th>UserID</th>\n",
       "      <th>churn</th>\n",
       "      <th>activites</th>\n",
       "      <th>Total</th>\n",
       "      <th>all_dates</th>\n",
       "      <th>last_active</th>\n",
       "    </tr>\n",
       "  </thead>\n",
       "  <tbody>\n",
       "    <tr>\n",
       "      <th>0</th>\n",
       "      <td>1324354</td>\n",
       "      <td>False</td>\n",
       "      <td>[[2005-02-24 00:00:00, -20], [2005-02-25 00:00...</td>\n",
       "      <td>83</td>\n",
       "      <td>[2005-02-24 00:00:00, 2005-02-25 00:00:00, 200...</td>\n",
       "      <td>2</td>\n",
       "    </tr>\n",
       "    <tr>\n",
       "      <th>1</th>\n",
       "      <td>1324355</td>\n",
       "      <td>False</td>\n",
       "      <td>[[2005-02-01 00:00:00, -2], [2005-02-01 00:00:...</td>\n",
       "      <td>69</td>\n",
       "      <td>[2005-02-01 00:00:00, 2005-02-01 00:00:00, 200...</td>\n",
       "      <td>1</td>\n",
       "    </tr>\n",
       "    <tr>\n",
       "      <th>2</th>\n",
       "      <td>1324356</td>\n",
       "      <td>False</td>\n",
       "      <td>[[2005-02-02 00:00:00, -4], [2005-02-02 00:00:...</td>\n",
       "      <td>46</td>\n",
       "      <td>[2005-02-02 00:00:00, 2005-02-02 00:00:00, 200...</td>\n",
       "      <td>52</td>\n",
       "    </tr>\n",
       "    <tr>\n",
       "      <th>3</th>\n",
       "      <td>1324358</td>\n",
       "      <td>True</td>\n",
       "      <td>[[2005-02-01 00:00:00, -31], [2005-02-02 00:00...</td>\n",
       "      <td>9</td>\n",
       "      <td>[2005-02-01 00:00:00, 2005-02-02 00:00:00, 200...</td>\n",
       "      <td>18</td>\n",
       "    </tr>\n",
       "    <tr>\n",
       "      <th>4</th>\n",
       "      <td>1324360</td>\n",
       "      <td>False</td>\n",
       "      <td>[[2005-02-02 00:00:00, -1], [2005-02-03 00:00:...</td>\n",
       "      <td>21</td>\n",
       "      <td>[2005-02-02 00:00:00, 2005-02-03 00:00:00, 200...</td>\n",
       "      <td>52</td>\n",
       "    </tr>\n",
       "  </tbody>\n",
       "</table>\n",
       "</div>"
      ],
      "text/plain": [
       "    UserID  churn                                          activites  Total  \\\n",
       "0  1324354  False  [[2005-02-24 00:00:00, -20], [2005-02-25 00:00...     83   \n",
       "1  1324355  False  [[2005-02-01 00:00:00, -2], [2005-02-01 00:00:...     69   \n",
       "2  1324356  False  [[2005-02-02 00:00:00, -4], [2005-02-02 00:00:...     46   \n",
       "3  1324358   True  [[2005-02-01 00:00:00, -31], [2005-02-02 00:00...      9   \n",
       "4  1324360  False  [[2005-02-02 00:00:00, -1], [2005-02-03 00:00:...     21   \n",
       "\n",
       "                                           all_dates  last_active  \n",
       "0  [2005-02-24 00:00:00, 2005-02-25 00:00:00, 200...            2  \n",
       "1  [2005-02-01 00:00:00, 2005-02-01 00:00:00, 200...            1  \n",
       "2  [2005-02-02 00:00:00, 2005-02-02 00:00:00, 200...           52  \n",
       "3  [2005-02-01 00:00:00, 2005-02-02 00:00:00, 200...           18  \n",
       "4  [2005-02-02 00:00:00, 2005-02-03 00:00:00, 200...           52  "
      ]
     },
     "execution_count": 21,
     "metadata": {},
     "output_type": "execute_result"
    }
   ],
   "source": [
    "churn_data.head()"
   ]
  },
  {
   "cell_type": "code",
   "execution_count": 22,
   "metadata": {
    "collapsed": false
   },
   "outputs": [
    {
     "name": "stderr",
     "output_type": "stream",
     "text": [
      "/home/sudip/phunka/projects/freelance/forex/envforex/lib/python3.4/site-packages/ipykernel/__main__.py:1: SettingWithCopyWarning: \n",
      "A value is trying to be set on a copy of a slice from a DataFrame.\n",
      "Try using .loc[row_indexer,col_indexer] = value instead\n",
      "\n",
      "See the caveats in the documentation: http://pandas.pydata.org/pandas-docs/stable/indexing.html#indexing-view-versus-copy\n",
      "  if __name__ == '__main__':\n",
      "/home/sudip/phunka/projects/freelance/forex/envforex/lib/python3.4/site-packages/ipykernel/__main__.py:2: SettingWithCopyWarning: \n",
      "A value is trying to be set on a copy of a slice from a DataFrame.\n",
      "Try using .loc[row_indexer,col_indexer] = value instead\n",
      "\n",
      "See the caveats in the documentation: http://pandas.pydata.org/pandas-docs/stable/indexing.html#indexing-view-versus-copy\n",
      "  from ipykernel import kernelapp as app\n"
     ]
    }
   ],
   "source": [
    "churn_data['total_wins'] = churn_data['activites'].apply(lambda x: len([i[1] for i in x if i[1] >0 ]) )\n",
    "churn_data['total_loss'] = churn_data['activites'].apply(lambda x: len([i[1] for i in x if i[1] <0 ]) )\n",
    "\n",
    "churn_data['amount_won'] = churn_data['activites'].apply(lambda x: sum([i[1] for i in x]) )"
   ]
  },
  {
   "cell_type": "code",
   "execution_count": 23,
   "metadata": {
    "collapsed": false
   },
   "outputs": [],
   "source": [
    "churn_data['active_days'] = churn_data['all_dates'].apply(lambda x: (max(x) - min(x)).days if x else 0)"
   ]
  },
  {
   "cell_type": "code",
   "execution_count": 24,
   "metadata": {
    "collapsed": false
   },
   "outputs": [
    {
     "data": {
      "text/html": [
       "<div>\n",
       "<table border=\"1\" class=\"dataframe\">\n",
       "  <thead>\n",
       "    <tr style=\"text-align: right;\">\n",
       "      <th></th>\n",
       "      <th>UserID</th>\n",
       "      <th>churn</th>\n",
       "      <th>activites</th>\n",
       "      <th>Total</th>\n",
       "      <th>all_dates</th>\n",
       "      <th>last_active</th>\n",
       "      <th>total_wins</th>\n",
       "      <th>total_loss</th>\n",
       "      <th>amount_won</th>\n",
       "      <th>active_days</th>\n",
       "    </tr>\n",
       "  </thead>\n",
       "  <tbody>\n",
       "    <tr>\n",
       "      <th>0</th>\n",
       "      <td>1324354</td>\n",
       "      <td>False</td>\n",
       "      <td>[[2005-02-24 00:00:00, -20], [2005-02-25 00:00...</td>\n",
       "      <td>83</td>\n",
       "      <td>[2005-02-24 00:00:00, 2005-02-25 00:00:00, 200...</td>\n",
       "      <td>2</td>\n",
       "      <td>29</td>\n",
       "      <td>47</td>\n",
       "      <td>-211</td>\n",
       "      <td>87</td>\n",
       "    </tr>\n",
       "    <tr>\n",
       "      <th>1</th>\n",
       "      <td>1324355</td>\n",
       "      <td>False</td>\n",
       "      <td>[[2005-02-01 00:00:00, -2], [2005-02-01 00:00:...</td>\n",
       "      <td>69</td>\n",
       "      <td>[2005-02-01 00:00:00, 2005-02-01 00:00:00, 200...</td>\n",
       "      <td>1</td>\n",
       "      <td>13</td>\n",
       "      <td>43</td>\n",
       "      <td>118</td>\n",
       "      <td>111</td>\n",
       "    </tr>\n",
       "    <tr>\n",
       "      <th>2</th>\n",
       "      <td>1324356</td>\n",
       "      <td>False</td>\n",
       "      <td>[[2005-02-02 00:00:00, -4], [2005-02-02 00:00:...</td>\n",
       "      <td>46</td>\n",
       "      <td>[2005-02-02 00:00:00, 2005-02-02 00:00:00, 200...</td>\n",
       "      <td>52</td>\n",
       "      <td>7</td>\n",
       "      <td>26</td>\n",
       "      <td>-137</td>\n",
       "      <td>59</td>\n",
       "    </tr>\n",
       "    <tr>\n",
       "      <th>3</th>\n",
       "      <td>1324358</td>\n",
       "      <td>True</td>\n",
       "      <td>[[2005-02-01 00:00:00, -31], [2005-02-02 00:00...</td>\n",
       "      <td>9</td>\n",
       "      <td>[2005-02-01 00:00:00, 2005-02-02 00:00:00, 200...</td>\n",
       "      <td>18</td>\n",
       "      <td>2</td>\n",
       "      <td>6</td>\n",
       "      <td>-126</td>\n",
       "      <td>94</td>\n",
       "    </tr>\n",
       "    <tr>\n",
       "      <th>4</th>\n",
       "      <td>1324360</td>\n",
       "      <td>False</td>\n",
       "      <td>[[2005-02-02 00:00:00, -1], [2005-02-03 00:00:...</td>\n",
       "      <td>21</td>\n",
       "      <td>[2005-02-02 00:00:00, 2005-02-03 00:00:00, 200...</td>\n",
       "      <td>52</td>\n",
       "      <td>4</td>\n",
       "      <td>9</td>\n",
       "      <td>-4</td>\n",
       "      <td>59</td>\n",
       "    </tr>\n",
       "  </tbody>\n",
       "</table>\n",
       "</div>"
      ],
      "text/plain": [
       "    UserID  churn                                          activites  Total  \\\n",
       "0  1324354  False  [[2005-02-24 00:00:00, -20], [2005-02-25 00:00...     83   \n",
       "1  1324355  False  [[2005-02-01 00:00:00, -2], [2005-02-01 00:00:...     69   \n",
       "2  1324356  False  [[2005-02-02 00:00:00, -4], [2005-02-02 00:00:...     46   \n",
       "3  1324358   True  [[2005-02-01 00:00:00, -31], [2005-02-02 00:00...      9   \n",
       "4  1324360  False  [[2005-02-02 00:00:00, -1], [2005-02-03 00:00:...     21   \n",
       "\n",
       "                                           all_dates  last_active  total_wins  \\\n",
       "0  [2005-02-24 00:00:00, 2005-02-25 00:00:00, 200...            2          29   \n",
       "1  [2005-02-01 00:00:00, 2005-02-01 00:00:00, 200...            1          13   \n",
       "2  [2005-02-02 00:00:00, 2005-02-02 00:00:00, 200...           52           7   \n",
       "3  [2005-02-01 00:00:00, 2005-02-02 00:00:00, 200...           18           2   \n",
       "4  [2005-02-02 00:00:00, 2005-02-03 00:00:00, 200...           52           4   \n",
       "\n",
       "   total_loss  amount_won  active_days  \n",
       "0          47        -211           87  \n",
       "1          43         118          111  \n",
       "2          26        -137           59  \n",
       "3           6        -126           94  \n",
       "4           9          -4           59  "
      ]
     },
     "execution_count": 24,
     "metadata": {},
     "output_type": "execute_result"
    }
   ],
   "source": [
    "churn_data.head()"
   ]
  },
  {
   "cell_type": "code",
   "execution_count": 25,
   "metadata": {
    "collapsed": true
   },
   "outputs": [],
   "source": [
    "from sklearn.cross_validation import train_test_split\n",
    "train_data, test_data = train_test_split(churn_data, train_size=0.8)"
   ]
  },
  {
   "cell_type": "code",
   "execution_count": 26,
   "metadata": {
    "collapsed": false
   },
   "outputs": [],
   "source": [
    "from sklearn import tree"
   ]
  },
  {
   "cell_type": "code",
   "execution_count": 27,
   "metadata": {
    "collapsed": true
   },
   "outputs": [],
   "source": [
    "features = ['Total',  'last_active', 'total_wins', 'total_loss', 'amount_won', 'active_days']"
   ]
  },
  {
   "cell_type": "markdown",
   "metadata": {},
   "source": [
    "## Try out with Decision Tree"
   ]
  },
  {
   "cell_type": "code",
   "execution_count": 28,
   "metadata": {
    "collapsed": true
   },
   "outputs": [],
   "source": [
    "output = train_data['churn']"
   ]
  },
  {
   "cell_type": "code",
   "execution_count": 29,
   "metadata": {
    "collapsed": true
   },
   "outputs": [],
   "source": [
    "clf = tree.DecisionTreeClassifier()"
   ]
  },
  {
   "cell_type": "code",
   "execution_count": 30,
   "metadata": {
    "collapsed": false
   },
   "outputs": [
    {
     "data": {
      "text/plain": [
       "DecisionTreeClassifier(class_weight=None, criterion='gini', max_depth=None,\n",
       "            max_features=None, max_leaf_nodes=None, min_samples_leaf=1,\n",
       "            min_samples_split=2, min_weight_fraction_leaf=0.0,\n",
       "            presort=False, random_state=None, splitter='best')"
      ]
     },
     "execution_count": 30,
     "metadata": {},
     "output_type": "execute_result"
    }
   ],
   "source": [
    "clf.fit(train_data[features], output)"
   ]
  },
  {
   "cell_type": "code",
   "execution_count": 31,
   "metadata": {
    "collapsed": false
   },
   "outputs": [],
   "source": [
    "predicted = clf.predict(test_data[features])\n",
    "\n",
    "y_true = test_data[['churn']]\n",
    "from sklearn import metrics"
   ]
  },
  {
   "cell_type": "code",
   "execution_count": 32,
   "metadata": {
    "collapsed": false
   },
   "outputs": [
    {
     "name": "stdout",
     "output_type": "stream",
     "text": [
      "0.686010717136\n",
      "[[3820 1387]\n",
      " [1367 2197]]\n"
     ]
    }
   ],
   "source": [
    "print(metrics.accuracy_score(y_true=y_true, y_pred=predicted))\n",
    "print(metrics.confusion_matrix(y_true=y_true, y_pred=predicted))"
   ]
  },
  {
   "cell_type": "code",
   "execution_count": 33,
   "metadata": {
    "collapsed": false
   },
   "outputs": [
    {
     "data": {
      "text/plain": [
       "<bound method DecisionTreeClassifier.get_params of DecisionTreeClassifier(class_weight=None, criterion='gini', max_depth=None,\n",
       "            max_features=None, max_leaf_nodes=None, min_samples_leaf=1,\n",
       "            min_samples_split=2, min_weight_fraction_leaf=0.0,\n",
       "            presort=False, random_state=None, splitter='best')>"
      ]
     },
     "execution_count": 33,
     "metadata": {},
     "output_type": "execute_result"
    }
   ],
   "source": [
    "clf.get_params"
   ]
  },
  {
   "cell_type": "markdown",
   "metadata": {},
   "source": [
    "## Lets try out with Logistic Regression"
   ]
  },
  {
   "cell_type": "code",
   "execution_count": 34,
   "metadata": {
    "collapsed": false
   },
   "outputs": [
    {
     "data": {
      "text/plain": [
       "LogisticRegression(C=1.0, class_weight=None, dual=False, fit_intercept=True,\n",
       "          intercept_scaling=1, max_iter=100, multi_class='ovr', n_jobs=1,\n",
       "          penalty='l2', random_state=None, solver='liblinear', tol=0.0001,\n",
       "          verbose=0, warm_start=False)"
      ]
     },
     "execution_count": 34,
     "metadata": {},
     "output_type": "execute_result"
    }
   ],
   "source": [
    "from sklearn.linear_model import LogisticRegression\n",
    "est = LogisticRegression()\n",
    "est.fit(train_data[features], output)"
   ]
  },
  {
   "cell_type": "code",
   "execution_count": 35,
   "metadata": {
    "collapsed": false
   },
   "outputs": [
    {
     "name": "stdout",
     "output_type": "stream",
     "text": [
      "accuracy 0.751339642002\n",
      "[[4266  941]\n",
      " [1240 2324]]\n"
     ]
    }
   ],
   "source": [
    "predicted_logistic = est.predict(test_data[features])\n",
    "\n",
    "y_true_logistic = test_data[['churn']]\n",
    "from sklearn import metrics\n",
    "print(\"accuracy\", metrics.accuracy_score(y_true=y_true_logistic, y_pred=predicted_logistic))\n",
    "print(metrics.confusion_matrix(y_true=y_true_logistic, y_pred=predicted_logistic))"
   ]
  },
  {
   "cell_type": "markdown",
   "metadata": {},
   "source": [
    "## Lets try with SVM"
   ]
  },
  {
   "cell_type": "code",
   "execution_count": 36,
   "metadata": {
    "collapsed": false
   },
   "outputs": [
    {
     "data": {
      "text/plain": [
       "SVC(C=1.0, cache_size=200, class_weight=None, coef0=0.0,\n",
       "  decision_function_shape=None, degree=3, gamma='auto', kernel='rbf',\n",
       "  max_iter=-1, probability=False, random_state=None, shrinking=True,\n",
       "  tol=0.001, verbose=False)"
      ]
     },
     "execution_count": 36,
     "metadata": {},
     "output_type": "execute_result"
    }
   ],
   "source": [
    "from sklearn import svm\n",
    "svm_model = svm.SVC()\n",
    "svm_model.fit(train_data[features], output)  "
   ]
  },
  {
   "cell_type": "code",
   "execution_count": 37,
   "metadata": {
    "collapsed": false
   },
   "outputs": [
    {
     "name": "stdout",
     "output_type": "stream",
     "text": [
      "accuracy 0.690001140121\n",
      "[[4881  326]\n",
      " [2393 1171]]\n"
     ]
    }
   ],
   "source": [
    "predicted_svm = svm_model.predict(test_data[features])\n",
    "\n",
    "y_true_svm = test_data[['churn']]\n",
    "from sklearn import metrics\n",
    "print(\"accuracy\", metrics.accuracy_score(y_true=y_true_svm, y_pred=predicted_svm))\n",
    "print(metrics.confusion_matrix(y_true=y_true_svm, y_pred=predicted_svm))"
   ]
  },
  {
   "cell_type": "markdown",
   "metadata": {
    "collapsed": true
   },
   "source": [
    "## Lets try out with Nearest Neighbour"
   ]
  },
  {
   "cell_type": "code",
   "execution_count": 60,
   "metadata": {
    "collapsed": false
   },
   "outputs": [
    {
     "data": {
      "text/plain": [
       "KNeighborsClassifier(algorithm='auto', leaf_size=30, metric='minkowski',\n",
       "           metric_params=None, n_jobs=1, n_neighbors=40, p=2,\n",
       "           weights='uniform')"
      ]
     },
     "execution_count": 60,
     "metadata": {},
     "output_type": "execute_result"
    }
   ],
   "source": [
    "from sklearn.neighbors import KNeighborsClassifier\n",
    "knn_model = KNeighborsClassifier(n_neighbors=40)\n",
    "knn_model.fit(train_data[features], output) "
   ]
  },
  {
   "cell_type": "code",
   "execution_count": 61,
   "metadata": {
    "collapsed": false
   },
   "outputs": [
    {
     "name": "stdout",
     "output_type": "stream",
     "text": [
      "accuracy 0.758294379204\n",
      "[[4152 1055]\n",
      " [1065 2499]]\n"
     ]
    }
   ],
   "source": [
    "predicted_knn = knn_model.predict(test_data[features])\n",
    "\n",
    "y_true_knn = test_data[['churn']]\n",
    "from sklearn import metrics\n",
    "print(\"accuracy\", metrics.accuracy_score(y_true=y_true_knn, y_pred=predicted_knn))\n",
    "print(metrics.confusion_matrix(y_true=y_true_knn, y_pred=predicted_knn))"
   ]
  },
  {
   "cell_type": "code",
   "execution_count": 70,
   "metadata": {
    "collapsed": true
   },
   "outputs": [],
   "source": [
    "churn_data_csv = churn_data[features + ['churn', 'UserID']]\n",
    "churn_data_csv.to_csv('churn_data.csv', sep=',')"
   ]
  },
  {
   "cell_type": "code",
   "execution_count": 4,
   "metadata": {
    "collapsed": false
   },
   "outputs": [
    {
     "name": "stderr",
     "output_type": "stream",
     "text": [
      "/home/sudip/phunka/projects/freelance/forex/envforex/lib/python3.4/site-packages/ipykernel/__main__.py:1: FutureWarning: by argument to sort_index is deprecated, pls use .sort_values(by=...)\n",
      "  if __name__ == '__main__':\n"
     ]
    }
   ],
   "source": [
    "new_df = raw_data.sort_index(by='UserID', ascending=1)"
   ]
  },
  {
   "cell_type": "code",
   "execution_count": 5,
   "metadata": {
    "collapsed": false
   },
   "outputs": [
    {
     "data": {
      "text/html": [
       "<div>\n",
       "<table border=\"1\" class=\"dataframe\">\n",
       "  <thead>\n",
       "    <tr style=\"text-align: right;\">\n",
       "      <th></th>\n",
       "      <th>UserID</th>\n",
       "      <th>Date</th>\n",
       "      <th>ProductID</th>\n",
       "      <th>Stakes</th>\n",
       "      <th>Winnings</th>\n",
       "      <th>Bets</th>\n",
       "    </tr>\n",
       "  </thead>\n",
       "  <tbody>\n",
       "    <tr>\n",
       "      <th>0</th>\n",
       "      <td>1324354</td>\n",
       "      <td>20050224</td>\n",
       "      <td>1</td>\n",
       "      <td>20.00</td>\n",
       "      <td>0.00</td>\n",
       "      <td>2</td>\n",
       "    </tr>\n",
       "    <tr>\n",
       "      <th>100</th>\n",
       "      <td>1324354</td>\n",
       "      <td>20050817</td>\n",
       "      <td>1</td>\n",
       "      <td>42.48</td>\n",
       "      <td>0.00</td>\n",
       "      <td>2</td>\n",
       "    </tr>\n",
       "    <tr>\n",
       "      <th>99</th>\n",
       "      <td>1324354</td>\n",
       "      <td>20050816</td>\n",
       "      <td>1</td>\n",
       "      <td>50.00</td>\n",
       "      <td>92.48</td>\n",
       "      <td>2</td>\n",
       "    </tr>\n",
       "    <tr>\n",
       "      <th>98</th>\n",
       "      <td>1324354</td>\n",
       "      <td>20050815</td>\n",
       "      <td>1</td>\n",
       "      <td>176.90</td>\n",
       "      <td>0.00</td>\n",
       "      <td>1</td>\n",
       "    </tr>\n",
       "    <tr>\n",
       "      <th>97</th>\n",
       "      <td>1324354</td>\n",
       "      <td>20050814</td>\n",
       "      <td>2</td>\n",
       "      <td>145.00</td>\n",
       "      <td>176.90</td>\n",
       "      <td>1</td>\n",
       "    </tr>\n",
       "  </tbody>\n",
       "</table>\n",
       "</div>"
      ],
      "text/plain": [
       "      UserID      Date  ProductID  Stakes  Winnings  Bets\n",
       "0    1324354  20050224          1   20.00      0.00     2\n",
       "100  1324354  20050817          1   42.48      0.00     2\n",
       "99   1324354  20050816          1   50.00     92.48     2\n",
       "98   1324354  20050815          1  176.90      0.00     1\n",
       "97   1324354  20050814          2  145.00    176.90     1"
      ]
     },
     "execution_count": 5,
     "metadata": {},
     "output_type": "execute_result"
    }
   ],
   "source": [
    "new_df.drop_duplicates(cols='UserI')"
   ]
  },
  {
   "cell_type": "code",
   "execution_count": null,
   "metadata": {
    "collapsed": true
   },
   "outputs": [],
   "source": []
  }
 ],
 "metadata": {
  "kernelspec": {
   "display_name": "Python 3",
   "language": "python",
   "name": "python3"
  },
  "language_info": {
   "codemirror_mode": {
    "name": "ipython",
    "version": 3
   },
   "file_extension": ".py",
   "mimetype": "text/x-python",
   "name": "python",
   "nbconvert_exporter": "python",
   "pygments_lexer": "ipython3",
   "version": "3.4.0"
  }
 },
 "nbformat": 4,
 "nbformat_minor": 0
}
